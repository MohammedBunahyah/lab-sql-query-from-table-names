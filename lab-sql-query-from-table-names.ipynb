{
 "cells": [
  {
   "cell_type": "markdown",
   "id": "00a57394-53dd-47cd-a5e7-6e7122bbb0f6",
   "metadata": {},
   "source": [
    "# SQL query from table names"
   ]
  },
  {
   "cell_type": "markdown",
   "id": "86bc2813-763c-49f2-9f5d-e1f87a20556f",
   "metadata": {
    "id": "86bc2813-763c-49f2-9f5d-e1f87a20556f"
   },
   "source": [
    "In This notebook we are going to test if using just the name of the table, and a shord definition of its contect we can use a model like GTP3.5-Turbo to select which tables are necessary to create a SQL Order to answer the user petition."
   ]
  },
  {
   "cell_type": "code",
   "execution_count": 6,
   "id": "7fbbdf5b-4d7f-4496-8f40-9d15ea46d023",
   "metadata": {
    "id": "7fbbdf5b-4d7f-4496-8f40-9d15ea46d023"
   },
   "outputs": [],
   "source": [
    "from openai import OpenAI\n",
    "import os\n",
    "from dotenv import load_dotenv, find_dotenv\n",
    "_ = load_dotenv(find_dotenv())\n",
    "\n",
    "OPENAI_API_KEY  = os.getenv('OPENAI_API_KEY')"
   ]
  },
  {
   "cell_type": "code",
   "execution_count": 7,
   "id": "e480bbfb-9a80-4ea6-b792-067e63ae3148",
   "metadata": {
    "id": "e480bbfb-9a80-4ea6-b792-067e63ae3148"
   },
   "outputs": [],
   "source": [
    "#Functio to call the model.\n",
    "def return_OAI(user_message):\n",
    "    client = OpenAI(\n",
    "    # This is the default and can be omitted\n",
    "    api_key=OPENAI_API_KEY,\n",
    ")\n",
    "    context = []\n",
    "    context.append({'role':'system', \"content\": user_message})\n",
    "\n",
    "    response = client.chat.completions.create(\n",
    "            model=\"gpt-3.5-turbo\",\n",
    "            messages=context,\n",
    "            temperature=0,\n",
    "        )\n",
    "\n",
    "    return (response.choices[0].message.content)"
   ]
  },
  {
   "cell_type": "code",
   "execution_count": 8,
   "id": "6d5d2bdc-d822-4ed8-815e-b3f223730f15",
   "metadata": {
    "id": "6d5d2bdc-d822-4ed8-815e-b3f223730f15",
    "outputId": "61068bf0-41e3-40d9-b453-b76da5b0f086"
   },
   "outputs": [
    {
     "name": "stdout",
     "output_type": "stream",
     "text": [
      "customers: Contains customer details (id, name, email, address)\n",
      "orders: Contains order details (order_id, customer_id, product_id, date, total_price)\n",
      "products: Contains product details (product_id, name, category, price, stock)\n",
      "employees: Contains employee details (id, name, department, position)\n"
     ]
    }
   ],
   "source": [
    "import pandas as pd  # Import pandas for DataFrame handling\n",
    "\n",
    "# Define example database tables and descriptions\n",
    "data = {'table': ['customers', 'orders', 'products', 'employees'],\n",
    "        'definition': ['Contains customer details (id, name, email, address)',\n",
    "                       'Contains order details (order_id, customer_id, product_id, date, total_price)',\n",
    "                       'Contains product details (product_id, name, category, price, stock)',\n",
    "                       'Contains employee details (id, name, department, position)']}\n",
    "df = pd.DataFrame(data)  # Create DataFrame for tables\n",
    "\n",
    "# Convert tables into text format\n",
    "text_tables = '\\n'.join([f\"{row['table']}: {row['definition']}\" for index, row in df.iterrows()])\n",
    "print(text_tables)\n"
   ]
  },
  {
   "cell_type": "code",
   "execution_count": 9,
   "id": "009e681c-d95d-4c9c-b044-5bfd76e3ad95",
   "metadata": {
    "id": "009e681c-d95d-4c9c-b044-5bfd76e3ad95"
   },
   "outputs": [],
   "source": [
    "text_tables = '\\n'.join([f\"{row['table']}: {row['definition']}\" for index, row in df.iterrows()])"
   ]
  },
  {
   "cell_type": "code",
   "execution_count": 10,
   "id": "fe03ac25-8d02-4cd1-99a1-be4220c6fd2d",
   "metadata": {
    "id": "fe03ac25-8d02-4cd1-99a1-be4220c6fd2d",
    "outputId": "c1f3aab1-5f26-48fe-fcf9-3780120f5aad"
   },
   "outputs": [
    {
     "name": "stdout",
     "output_type": "stream",
     "text": [
      "customers: Contains customer details (id, name, email, address)\n",
      "orders: Contains order details (order_id, customer_id, product_id, date, total_price)\n",
      "products: Contains product details (product_id, name, category, price, stock)\n",
      "employees: Contains employee details (id, name, department, position)\n"
     ]
    }
   ],
   "source": [
    "print(text_tables)"
   ]
  },
  {
   "cell_type": "code",
   "execution_count": 11,
   "id": "c7e275ae-f20d-4134-b9b6-d8677dfb544c",
   "metadata": {
    "id": "c7e275ae-f20d-4134-b9b6-d8677dfb544c"
   },
   "outputs": [],
   "source": [
    "prompt_question_tables = \"\"\"\n",
    "Given the following tables and their content definitions,\n",
    "###Tables\n",
    "{tables}\n",
    "\n",
    "Tell me which tables would be necessary to query with SQL to address the user's question below.\n",
    "Return the table names in a json format.\n",
    "###User Questyion:\n",
    "{question}\n",
    "\"\"\"\n"
   ]
  },
  {
   "cell_type": "code",
   "execution_count": 14,
   "id": "b1cb5957-2df2-4e5e-9e6a-ace955c9817e",
   "metadata": {
    "id": "b1cb5957-2df2-4e5e-9e6a-ace955c9817e"
   },
   "outputs": [],
   "source": [
    "#Creating the prompt, with the user questions and the tables definitions.\n",
    "# Example SQL Query\n",
    "query_1 = \"Which customers have made purchases over $500 in the last 30 days?\"\n",
    "\n",
    "# Format the prompt with table definitions and question\n",
    "pqt1 = prompt_question_tables.format(tables=text_tables, question=query_1)\n"
   ]
  },
  {
   "cell_type": "code",
   "execution_count": 15,
   "id": "10d30f2b-6c23-4fd6-8038-840fba784cce",
   "metadata": {
    "id": "10d30f2b-6c23-4fd6-8038-840fba784cce",
    "outputId": "9924022c-7b2b-4ec8-e2c2-75bc1c745151",
    "scrolled": true
   },
   "outputs": [
    {
     "name": "stdout",
     "output_type": "stream",
     "text": [
      "{\n",
      "    \"tables\": [\"customers\", \"orders\"]\n",
      "}\n"
     ]
    }
   ],
   "source": [
    "print(return_OAI(pqt1))"
   ]
  },
  {
   "cell_type": "code",
   "execution_count": 16,
   "id": "866a6c26",
   "metadata": {},
   "outputs": [
    {
     "name": "stdout",
     "output_type": "stream",
     "text": [
      "```json\n",
      "{\n",
      "    \"tables\": [\"employees\"]\n",
      "}\n",
      "```\n"
     ]
    }
   ],
   "source": [
    "query_2 = \"List all employees who work in the sales department.\"\n",
    "\n",
    "# Format the prompt with table definitions and query\n",
    "pqt2 = prompt_question_tables.format(tables=text_tables, question=query_2)\n",
    "print(return_OAI(pqt2))\n"
   ]
  },
  {
   "cell_type": "code",
   "execution_count": 17,
   "id": "57e07083-be8f-4cd0-95bd-c4b909422c6b",
   "metadata": {
    "id": "57e07083-be8f-4cd0-95bd-c4b909422c6b"
   },
   "outputs": [
    {
     "name": "stdout",
     "output_type": "stream",
     "text": [
      "```json\n",
      "{\n",
      "    \"tables\": [\"orders\", \"products\"]\n",
      "}\n",
      "```\n"
     ]
    }
   ],
   "source": [
    "query_3 = \"What are the most sold products and their stock availability?\"\n",
    "\n",
    "# Format the prompt with table definitions and query\n",
    "pqt3 = prompt_question_tables.format(tables=text_tables, question=query_3)\n",
    "print(return_OAI(pqt3))\n"
   ]
  },
  {
   "cell_type": "code",
   "execution_count": null,
   "id": "a0eeb79e-caf1-4f48-9897-168d95d2ae37",
   "metadata": {
    "id": "a0eeb79e-caf1-4f48-9897-168d95d2ae37",
    "outputId": "81d77115-9cad-4284-a228-5368bb9aa6fb"
   },
   "outputs": [
    {
     "name": "stdout",
     "output_type": "stream",
     "text": [
      "```json\n",
      "{\n",
      "    \"tables\": {\n",
      "        \"employees\": \"Employee information\",\n",
      "        \"salary\": \"Salary details for each year\",\n",
      "        \"studies\": \"Educational studies\"\n",
      "    }\n",
      "}\n",
      "```\n"
     ]
    }
   ],
   "source": [
    "print(return_OAI(pqt3))"
   ]
  },
  {
   "cell_type": "markdown",
   "id": "321bb9a2-4937-4e9a-a31b-7049cb8f5aa3",
   "metadata": {
    "id": "321bb9a2-4937-4e9a-a31b-7049cb8f5aa3"
   },
   "source": [
    "# Exercise\n",
    " - Complete the prompts similar to what we did in class. \n",
    "     - Try a few versions if you have time\n",
    "     - Be creative\n",
    " - Write a one page report summarizing your findings.\n",
    "     - Were there variations that didn't work well? i.e., where GPT either hallucinated or wrong\n",
    " - What did you learn?"
   ]
  },
  {
   "cell_type": "code",
   "execution_count": 18,
   "id": "14bcebf9",
   "metadata": {},
   "outputs": [
    {
     "name": "stdout",
     "output_type": "stream",
     "text": [
      "```json\n",
      "{\n",
      "    \"tables\": [\"orders\", \"products\"]\n",
      "}\n",
      "```\n"
     ]
    }
   ],
   "source": [
    "query_4 = \"Calculate total revenue generated by each product category.\"\n",
    "pqt4 = prompt_question_tables.format(tables=text_tables, question=query_4)\n",
    "print(return_OAI(pqt4))\n"
   ]
  },
  {
   "cell_type": "code",
   "execution_count": 19,
   "id": "059cb118",
   "metadata": {},
   "outputs": [
    {
     "name": "stdout",
     "output_type": "stream",
     "text": [
      "{\n",
      "    \"tables\": [\"customers\", \"orders\"]\n",
      "}\n"
     ]
    }
   ],
   "source": [
    "query_5 = \"Show all orders placed by customer John Doe.\"\n",
    "pqt5 = prompt_question_tables.format(tables=text_tables, question=query_5)\n",
    "print(return_OAI(pqt5))\n"
   ]
  },
  {
   "cell_type": "code",
   "execution_count": 20,
   "id": "80eaf1c2",
   "metadata": {},
   "outputs": [
    {
     "name": "stdout",
     "output_type": "stream",
     "text": [
      "```json\n",
      "{\n",
      "    \"tables\": [\"orders\", \"employees\"]\n",
      "}\n",
      "```\n"
     ]
    }
   ],
   "source": [
    "query_6 = \"List employees who completed at least 10 sales this month.\"\n",
    "pqt6 = prompt_question_tables.format(tables=text_tables, question=query_6)\n",
    "print(return_OAI(pqt6))\n"
   ]
  },
  {
   "cell_type": "markdown",
   "id": "9d285d56",
   "metadata": {},
   "source": [
    "- GPT correctly identified necessary tables – It avoided extra tables and focused on relevant ones.\n",
    "- AI handled different question types well – From sales, employees, and customer data, it adapted correctly.\n",
    "- Complex queries worked well – AI understood stock levels, order history, and revenue."
   ]
  },
  {
   "cell_type": "markdown",
   "id": "f359ccc1",
   "metadata": {},
   "source": []
  }
 ],
 "metadata": {
  "colab": {
   "include_colab_link": true,
   "provenance": []
  },
  "kernelspec": {
   "display_name": "Ironhack10",
   "language": "python",
   "name": "python3"
  },
  "language_info": {
   "codemirror_mode": {
    "name": "ipython",
    "version": 3
   },
   "file_extension": ".py",
   "mimetype": "text/x-python",
   "name": "python",
   "nbconvert_exporter": "python",
   "pygments_lexer": "ipython3",
   "version": "3.10.13"
  }
 },
 "nbformat": 4,
 "nbformat_minor": 5
}
